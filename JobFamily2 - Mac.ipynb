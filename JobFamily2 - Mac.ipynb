{
 "cells": [
  {
   "cell_type": "markdown",
   "metadata": {},
   "source": [
    "# Load Library and Custom Functions"
   ]
  },
  {
   "cell_type": "code",
   "execution_count": 1,
   "metadata": {},
   "outputs": [],
   "source": [
    "# this is training for job families actually"
   ]
  },
  {
   "cell_type": "code",
   "execution_count": 2,
   "metadata": {},
   "outputs": [],
   "source": [
    "# Base\n",
    "import pandas as pd\n",
    "import numpy as np\n",
    "import random as rnd\n",
    "from math import floor\n",
    "import sys, os, re, csv, codecs\n",
    "import time\n",
    "import datetime\n",
    "import pickle\n",
    "\n",
    "# import web base\n",
    "from flask import Flask\n",
    "\n",
    "# import nlp\n",
    "import spacy\n",
    "\n",
    "# import sklearn\n",
    "from sklearn.model_selection import train_test_split\n",
    "\n",
    "# Tensorflow 2.0 import Keras for deep learning\n",
    "import tensorflow as tf\n",
    "from tensorflow.keras.callbacks import TensorBoard\n",
    "import tensorflow.keras\n",
    "\n",
    "from tensorflow.keras.models import Model\n",
    "from tensorflow.keras.models import Sequential\n",
    "from tensorflow.keras import layers\n",
    "\n",
    "from tensorflow.keras.layers import Dense, Activation,Flatten,Dense, Input, LSTM, Embedding, Dropout,SpatialDropout1D\n",
    "from tensorflow.keras.layers import Bidirectional, GlobalMaxPool1D,GlobalAveragePooling1D,MaxPooling1D\n",
    "from tensorflow.keras.utils import plot_model\n",
    "from tensorflow.keras import initializers, regularizers, constraints, optimizers, layers\n",
    "\n",
    "from tensorflow.keras.preprocessing.text import Tokenizer\n",
    "from tensorflow.keras.preprocessing.sequence import pad_sequences\n",
    "\n",
    "# visualization\n",
    "import pydot\n",
    "import graphviz\n",
    "import seaborn as sns\n",
    "import matplotlib.pyplot as plt\n",
    "from scipy import stats\n",
    "from scipy.stats import norm\n",
    "%matplotlib inline\n",
    "\n",
    "# ProgressBar\n",
    "from tqdm import tqdm\n",
    "\n",
    "import warnings\n",
    "def ignore_warn(*args, **kwargs):\n",
    "    pass\n",
    "warnings.warn = ignore_warn #ignore annoying warning (from sklearn and seaborn)\n"
   ]
  },
  {
   "cell_type": "code",
   "execution_count": 3,
   "metadata": {},
   "outputs": [],
   "source": [
    "# Read Data\n",
    "df = pd.read_excel(r\"/Users/john.kuang/OneDrive - Sequoia/Python/Family/Mercer.xlsx\")"
   ]
  },
  {
   "cell_type": "code",
   "execution_count": 4,
   "metadata": {},
   "outputs": [
    {
     "data": {
      "text/html": [
       "<div>\n",
       "<style scoped>\n",
       "    .dataframe tbody tr th:only-of-type {\n",
       "        vertical-align: middle;\n",
       "    }\n",
       "\n",
       "    .dataframe tbody tr th {\n",
       "        vertical-align: top;\n",
       "    }\n",
       "\n",
       "    .dataframe thead th {\n",
       "        text-align: right;\n",
       "    }\n",
       "</style>\n",
       "<table border=\"1\" class=\"dataframe\">\n",
       "  <thead>\n",
       "    <tr style=\"text-align: right;\">\n",
       "      <th></th>\n",
       "      <th>Family</th>\n",
       "      <th>Subfamily</th>\n",
       "      <th>Title</th>\n",
       "      <th>General Management</th>\n",
       "      <th>Finance</th>\n",
       "      <th>Human Resources</th>\n",
       "      <th>Communications &amp; Corporate Affairs</th>\n",
       "      <th>Legal, Compliance &amp; Audit</th>\n",
       "      <th>Administration, Facilities &amp; Secretarial</th>\n",
       "      <th>Project/Program Management</th>\n",
       "      <th>...</th>\n",
       "      <th>Production &amp; Skilled Trades</th>\n",
       "      <th>IT, Telecom &amp; Internet</th>\n",
       "      <th>Data Analytics/Warehousing, &amp; Business Intelligence</th>\n",
       "      <th>Consumer &amp; Commercial Banking</th>\n",
       "      <th>Insurance</th>\n",
       "      <th>Hospitality (Food Service &amp; Lodging)</th>\n",
       "      <th>Creative &amp; Design</th>\n",
       "      <th>Real Estate Management, Property Development &amp; Investment</th>\n",
       "      <th>Construction</th>\n",
       "      <th>Healthcare/Pharmacy Services</th>\n",
       "    </tr>\n",
       "  </thead>\n",
       "  <tbody>\n",
       "    <tr>\n",
       "      <td>0</td>\n",
       "      <td>General Management</td>\n",
       "      <td>General Management</td>\n",
       "      <td>Chairman of the Board (Non CEO) - Global Paren...</td>\n",
       "      <td>1</td>\n",
       "      <td>0</td>\n",
       "      <td>0</td>\n",
       "      <td>0</td>\n",
       "      <td>0</td>\n",
       "      <td>0</td>\n",
       "      <td>0</td>\n",
       "      <td>...</td>\n",
       "      <td>0</td>\n",
       "      <td>0</td>\n",
       "      <td>0</td>\n",
       "      <td>0</td>\n",
       "      <td>0</td>\n",
       "      <td>0</td>\n",
       "      <td>0</td>\n",
       "      <td>0</td>\n",
       "      <td>0</td>\n",
       "      <td>0</td>\n",
       "    </tr>\n",
       "    <tr>\n",
       "      <td>1</td>\n",
       "      <td>General Management</td>\n",
       "      <td>General Management</td>\n",
       "      <td>Chairman of the Board (Non CEO) - Global Subsi...</td>\n",
       "      <td>1</td>\n",
       "      <td>0</td>\n",
       "      <td>0</td>\n",
       "      <td>0</td>\n",
       "      <td>0</td>\n",
       "      <td>0</td>\n",
       "      <td>0</td>\n",
       "      <td>...</td>\n",
       "      <td>0</td>\n",
       "      <td>0</td>\n",
       "      <td>0</td>\n",
       "      <td>0</td>\n",
       "      <td>0</td>\n",
       "      <td>0</td>\n",
       "      <td>0</td>\n",
       "      <td>0</td>\n",
       "      <td>0</td>\n",
       "      <td>0</td>\n",
       "    </tr>\n",
       "    <tr>\n",
       "      <td>2</td>\n",
       "      <td>General Management</td>\n",
       "      <td>General Management</td>\n",
       "      <td>Chairman of the Board (Non CEO) - Regional Par...</td>\n",
       "      <td>1</td>\n",
       "      <td>0</td>\n",
       "      <td>0</td>\n",
       "      <td>0</td>\n",
       "      <td>0</td>\n",
       "      <td>0</td>\n",
       "      <td>0</td>\n",
       "      <td>...</td>\n",
       "      <td>0</td>\n",
       "      <td>0</td>\n",
       "      <td>0</td>\n",
       "      <td>0</td>\n",
       "      <td>0</td>\n",
       "      <td>0</td>\n",
       "      <td>0</td>\n",
       "      <td>0</td>\n",
       "      <td>0</td>\n",
       "      <td>0</td>\n",
       "    </tr>\n",
       "  </tbody>\n",
       "</table>\n",
       "<p>3 rows × 25 columns</p>\n",
       "</div>"
      ],
      "text/plain": [
       "               Family           Subfamily  \\\n",
       "0  General Management  General Management   \n",
       "1  General Management  General Management   \n",
       "2  General Management  General Management   \n",
       "\n",
       "                                               Title  General Management  \\\n",
       "0  Chairman of the Board (Non CEO) - Global Paren...                   1   \n",
       "1  Chairman of the Board (Non CEO) - Global Subsi...                   1   \n",
       "2  Chairman of the Board (Non CEO) - Regional Par...                   1   \n",
       "\n",
       "   Finance  Human Resources  Communications & Corporate Affairs  \\\n",
       "0        0                0                                   0   \n",
       "1        0                0                                   0   \n",
       "2        0                0                                   0   \n",
       "\n",
       "   Legal, Compliance & Audit  Administration, Facilities & Secretarial  \\\n",
       "0                          0                                         0   \n",
       "1                          0                                         0   \n",
       "2                          0                                         0   \n",
       "\n",
       "   Project/Program Management  ...  Production & Skilled Trades  \\\n",
       "0                           0  ...                            0   \n",
       "1                           0  ...                            0   \n",
       "2                           0  ...                            0   \n",
       "\n",
       "   IT, Telecom & Internet  \\\n",
       "0                       0   \n",
       "1                       0   \n",
       "2                       0   \n",
       "\n",
       "   Data Analytics/Warehousing, & Business Intelligence  \\\n",
       "0                                                  0     \n",
       "1                                                  0     \n",
       "2                                                  0     \n",
       "\n",
       "   Consumer & Commercial Banking  Insurance  \\\n",
       "0                              0          0   \n",
       "1                              0          0   \n",
       "2                              0          0   \n",
       "\n",
       "   Hospitality (Food Service & Lodging)  Creative & Design  \\\n",
       "0                                     0                  0   \n",
       "1                                     0                  0   \n",
       "2                                     0                  0   \n",
       "\n",
       "   Real Estate Management, Property Development & Investment  Construction  \\\n",
       "0                                                  0                     0   \n",
       "1                                                  0                     0   \n",
       "2                                                  0                     0   \n",
       "\n",
       "   Healthcare/Pharmacy Services  \n",
       "0                             0  \n",
       "1                             0  \n",
       "2                             0  \n",
       "\n",
       "[3 rows x 25 columns]"
      ]
     },
     "execution_count": 4,
     "metadata": {},
     "output_type": "execute_result"
    }
   ],
   "source": [
    "df.head(3)"
   ]
  },
  {
   "cell_type": "code",
   "execution_count": 5,
   "metadata": {},
   "outputs": [],
   "source": [
    "df=df.sample(frac=1)"
   ]
  },
  {
   "cell_type": "code",
   "execution_count": 6,
   "metadata": {},
   "outputs": [
    {
     "data": {
      "text/html": [
       "<div>\n",
       "<style scoped>\n",
       "    .dataframe tbody tr th:only-of-type {\n",
       "        vertical-align: middle;\n",
       "    }\n",
       "\n",
       "    .dataframe tbody tr th {\n",
       "        vertical-align: top;\n",
       "    }\n",
       "\n",
       "    .dataframe thead th {\n",
       "        text-align: right;\n",
       "    }\n",
       "</style>\n",
       "<table border=\"1\" class=\"dataframe\">\n",
       "  <thead>\n",
       "    <tr style=\"text-align: right;\">\n",
       "      <th></th>\n",
       "      <th>Family</th>\n",
       "      <th>Subfamily</th>\n",
       "      <th>Title</th>\n",
       "      <th>General Management</th>\n",
       "      <th>Finance</th>\n",
       "      <th>Human Resources</th>\n",
       "      <th>Communications &amp; Corporate Affairs</th>\n",
       "      <th>Legal, Compliance &amp; Audit</th>\n",
       "      <th>Administration, Facilities &amp; Secretarial</th>\n",
       "      <th>Project/Program Management</th>\n",
       "      <th>...</th>\n",
       "      <th>Production &amp; Skilled Trades</th>\n",
       "      <th>IT, Telecom &amp; Internet</th>\n",
       "      <th>Data Analytics/Warehousing, &amp; Business Intelligence</th>\n",
       "      <th>Consumer &amp; Commercial Banking</th>\n",
       "      <th>Insurance</th>\n",
       "      <th>Hospitality (Food Service &amp; Lodging)</th>\n",
       "      <th>Creative &amp; Design</th>\n",
       "      <th>Real Estate Management, Property Development &amp; Investment</th>\n",
       "      <th>Construction</th>\n",
       "      <th>Healthcare/Pharmacy Services</th>\n",
       "    </tr>\n",
       "  </thead>\n",
       "  <tbody>\n",
       "    <tr>\n",
       "      <td>3712</td>\n",
       "      <td>Sales, Marketing &amp; Product Management</td>\n",
       "      <td>Field Sales &amp; Account Management</td>\n",
       "      <td>General Field Sales: Key Clients - Senior Mana...</td>\n",
       "      <td>0</td>\n",
       "      <td>0</td>\n",
       "      <td>0</td>\n",
       "      <td>0</td>\n",
       "      <td>0</td>\n",
       "      <td>0</td>\n",
       "      <td>0</td>\n",
       "      <td>...</td>\n",
       "      <td>0</td>\n",
       "      <td>0</td>\n",
       "      <td>0</td>\n",
       "      <td>0</td>\n",
       "      <td>0</td>\n",
       "      <td>0</td>\n",
       "      <td>0</td>\n",
       "      <td>0</td>\n",
       "      <td>0</td>\n",
       "      <td>0</td>\n",
       "    </tr>\n",
       "  </tbody>\n",
       "</table>\n",
       "<p>1 rows × 25 columns</p>\n",
       "</div>"
      ],
      "text/plain": [
       "                                     Family                         Subfamily  \\\n",
       "3712  Sales, Marketing & Product Management  Field Sales & Account Management   \n",
       "\n",
       "                                                  Title  General Management  \\\n",
       "3712  General Field Sales: Key Clients - Senior Mana...                   0   \n",
       "\n",
       "      Finance  Human Resources  Communications & Corporate Affairs  \\\n",
       "3712        0                0                                   0   \n",
       "\n",
       "      Legal, Compliance & Audit  Administration, Facilities & Secretarial  \\\n",
       "3712                          0                                         0   \n",
       "\n",
       "      Project/Program Management  ...  Production & Skilled Trades  \\\n",
       "3712                           0  ...                            0   \n",
       "\n",
       "      IT, Telecom & Internet  \\\n",
       "3712                       0   \n",
       "\n",
       "      Data Analytics/Warehousing, & Business Intelligence  \\\n",
       "3712                                                  0     \n",
       "\n",
       "      Consumer & Commercial Banking  Insurance  \\\n",
       "3712                              0          0   \n",
       "\n",
       "      Hospitality (Food Service & Lodging)  Creative & Design  \\\n",
       "3712                                     0                  0   \n",
       "\n",
       "      Real Estate Management, Property Development & Investment  Construction  \\\n",
       "3712                                                  0                     0   \n",
       "\n",
       "      Healthcare/Pharmacy Services  \n",
       "3712                             0  \n",
       "\n",
       "[1 rows x 25 columns]"
      ]
     },
     "execution_count": 6,
     "metadata": {},
     "output_type": "execute_result"
    }
   ],
   "source": [
    "df.head(1)"
   ]
  },
  {
   "cell_type": "markdown",
   "metadata": {},
   "source": [
    "# Feature Engineering"
   ]
  },
  {
   "cell_type": "code",
   "execution_count": 7,
   "metadata": {},
   "outputs": [],
   "source": [
    "# df.Title = df.Title .str.replace('\\n', ' ')\n",
    "df.Title = df.Title .apply(lambda x: x.lower())\n",
    "df.Title = df.Title .str.replace(r'[^\\w\\s]+', '')\n",
    "df.Title = df.Title.str.replace('\\d+', '')"
   ]
  },
  {
   "cell_type": "code",
   "execution_count": 8,
   "metadata": {},
   "outputs": [],
   "source": [
    "ylist=list(df.columns)\n",
    "ylist.remove(\"Family\")\n",
    "ylist.remove(\"Subfamily\")\n",
    "ylist.remove(\"Title\")\n",
    "# ylist.remove(\"Level\")"
   ]
  },
  {
   "cell_type": "code",
   "execution_count": 9,
   "metadata": {},
   "outputs": [
    {
     "name": "stdout",
     "output_type": "stream",
     "text": [
      "Total number of job families are: 22 \n",
      "\n",
      "['General Management', 'Finance', 'Human Resources', 'Communications & Corporate Affairs', 'Legal, Compliance & Audit', 'Administration, Facilities & Secretarial', 'Project/Program Management', 'Sales, Marketing & Product Management', 'Customer Service & Contact Center Operations', 'Quality Management', 'Supply Chain', 'Engineering & Science', 'Production & Skilled Trades', 'IT, Telecom & Internet', 'Data Analytics/Warehousing, & Business Intelligence', 'Consumer & Commercial Banking', 'Insurance', 'Hospitality (Food Service & Lodging)', 'Creative & Design', 'Real Estate Management, Property Development & Investment', 'Construction', 'Healthcare/Pharmacy Services']\n"
     ]
    }
   ],
   "source": [
    "print(\"Total number of job families are:\",len(ylist),'\\n')\n",
    "print(ylist)\n",
    "\n",
    "with open('ylist.data', 'wb') as filehandle:\n",
    "    # store the data as binary data stream\n",
    "    pickle.dump(ylist, filehandle)"
   ]
  },
  {
   "cell_type": "code",
   "execution_count": 10,
   "metadata": {},
   "outputs": [],
   "source": [
    "X=df"
   ]
  },
  {
   "cell_type": "code",
   "execution_count": 11,
   "metadata": {},
   "outputs": [],
   "source": [
    "y=df[ylist]"
   ]
  },
  {
   "cell_type": "code",
   "execution_count": 12,
   "metadata": {},
   "outputs": [],
   "source": [
    "# X_train, X_test, y_train, y_test = train_test_split( X, y, test_size=0.33, random_state=42, stratify=y)\n",
    "X_train, X_test, y_train, y_test = train_test_split( X, y, test_size=0.1, random_state=46)"
   ]
  },
  {
   "cell_type": "code",
   "execution_count": 13,
   "metadata": {},
   "outputs": [],
   "source": [
    "y = X_train[ylist].values\n",
    "list_sentences_train = X_train[\"Title\"]\n",
    "list_sentences_test = X_test[\"Title\"]"
   ]
  },
  {
   "cell_type": "code",
   "execution_count": 14,
   "metadata": {},
   "outputs": [
    {
     "data": {
      "text/plain": [
       "22"
      ]
     },
     "execution_count": 14,
     "metadata": {},
     "output_type": "execute_result"
    }
   ],
   "source": [
    "y.shape[1]"
   ]
  },
  {
   "cell_type": "code",
   "execution_count": 15,
   "metadata": {},
   "outputs": [],
   "source": [
    "nlp = spacy.load('en_core_web_lg')\n",
    "max_features = 2000\n",
    "embed_size = 300\n",
    "\n",
    "tokenizer = Tokenizer(num_words=max_features)\n",
    "tokenizer.fit_on_texts(list(list_sentences_train))\n",
    "\n",
    "embeddings_index = np.zeros((max_features, embed_size))\n",
    "for word, idx in tokenizer.word_index.items():\n",
    "    try:\n",
    "        embedding = nlp.vocab[word].vector\n",
    "        embeddings_index[idx] = embedding\n",
    "    except:\n",
    "        pass\n",
    "\n",
    "list_tokenized_train = tokenizer.texts_to_sequences(list_sentences_train)\n",
    "list_tokenized_test = tokenizer.texts_to_sequences(list_sentences_test)\n",
    "\n",
    "# saving the tokenizer for production\n",
    "with open('tokenizer.pickle', 'wb') as handle:\n",
    "    pickle.dump(tokenizer, handle, protocol=pickle.HIGHEST_PROTOCOL)\n",
    "\n",
    "# loading the saved tokenizer\n",
    "with open('tokenizer.pickle', 'rb') as handle:\n",
    "    tokenizer = pickle.load(handle)"
   ]
  },
  {
   "cell_type": "code",
   "execution_count": 16,
   "metadata": {},
   "outputs": [
    {
     "data": {
      "image/png": "[encoded data removed]",
      "text/plain": [
       "<Figure size 432x288 with 1 Axes>"
      ]
     },
     "metadata": {
      "needs_background": "light"
     },
     "output_type": "display_data"
    },
    {
     "name": "stdout",
     "output_type": "stream",
     "text": [
      "Average number of words is 10.833374597672691\n"
     ]
    }
   ],
   "source": [
    "totalNumWords = [len(one_comment) for one_comment in list_tokenized_train]\n",
    "plt.hist(totalNumWords,bins = np.arange(0,20,1))\n",
    "plt.show()\n",
    "print(\"Average number of words is\",np.average(totalNumWords))"
   ]
  },
  {
   "cell_type": "markdown",
   "metadata": {},
   "source": [
    "# Set Max Length of Input\n",
    "- This is very important, you want to match your training distribution to actual production input"
   ]
  },
  {
   "cell_type": "code",
   "execution_count": 17,
   "metadata": {},
   "outputs": [],
   "source": [
    "maxlen = 4"
   ]
  },
  {
   "cell_type": "code",
   "execution_count": 18,
   "metadata": {},
   "outputs": [],
   "source": [
    "X_t = pad_sequences(list_tokenized_train, maxlen=maxlen)\n",
    "X_te = pad_sequences(list_tokenized_test, maxlen=maxlen)\n",
    "# of these job titles take the maxlen number of words based off of human judgment"
   ]
  },
  {
   "cell_type": "code",
   "execution_count": 19,
   "metadata": {},
   "outputs": [],
   "source": [
    "# timenow = datetime.datetime.fromtimestamp(time.time()).strftime('%Y-%m-%d %H:%M:%S')\n",
    "# print(timenow)"
   ]
  },
  {
   "cell_type": "code",
   "execution_count": 20,
   "metadata": {},
   "outputs": [],
   "source": [
    "# tensorboard = TensorBoard(log_dir=\"logs/{}\".format(time.time()))\n",
    "# # keep records of how differnt parameters perform"
   ]
  },
  {
   "cell_type": "markdown",
   "metadata": {},
   "source": [
    "# Training"
   ]
  },
  {
   "cell_type": "code",
   "execution_count": 21,
   "metadata": {},
   "outputs": [],
   "source": [
    "# input_size=maxlen # this is the number of words in each title\n",
    "# output_size=y.shape[1] # this is number of job families\n",
    "\n",
    "# inp = Input(shape=(input_size, ))\n",
    "# embed_size = 128\n",
    "# x = Embedding(max_features, embed_size)(inp)\n",
    "# x = LSTM(32, return_sequences=True,name='lstm_layer')(x)\n",
    "# x = GlobalAveragePooling1D(data_format='channels_first')(x)\n",
    "# x = Dropout(0.2)(x)\n",
    "# x = Dense(output_size, activation=\"softmax\")(x)\n",
    "# model = Model(inputs=inp, outputs=x)\n",
    "# model.compile(loss='categorical_crossentropy',\n",
    "#                   optimizer='adam',\n",
    "#                   metrics=['accuracy'])\n",
    "\n",
    "input_size=maxlen # this is the number of words in each title\n",
    "output_size=y.shape[1] # this is number of job families\n",
    "\n",
    "inp = Input(shape=(input_size, ))\n",
    "x = Embedding(input_dim=max_features, output_dim=embed_size,weights=[embeddings_index], trainable=False)(inp)\n",
    "x = SpatialDropout1D(rate=0.1)(x)\n",
    "x = Bidirectional(LSTM(32, return_sequences=True, stateful=False,name='lstm_layer'))(x)\n",
    "x = Bidirectional(LSTM(32, return_sequences=False, stateful=False,name='lstm_layer'))(x)\n",
    "# x = GlobalMaxPool1D()(x)\n",
    "x = Flatten()(x)\n",
    "x = Dropout(rate=0.1)(x)\n",
    "x = Dense(64, activation='relu')(x)\n",
    "x = Dropout(rate=0.1)(x)\n",
    "x = Dense(output_size, activation=\"softmax\")(x)\n",
    "model = Model(inputs=inp, outputs=x)\n",
    "model.compile(loss='categorical_crossentropy',\n",
    "                  optimizer='adam',\n",
    "                  metrics=['accuracy'])"
   ]
  },
  {
   "cell_type": "code",
   "execution_count": 22,
   "metadata": {},
   "outputs": [
    {
     "name": "stdout",
     "output_type": "stream",
     "text": [
      "Train on 7270 samples, validate on 808 samples\n",
      "Epoch 1/30\n",
      "7270/7270 - 4s - loss: 2.5662 - accuracy: 0.2598 - val_loss: 2.0074 - val_accuracy: 0.4579\n",
      "Epoch 2/30\n",
      "7270/7270 - 1s - loss: 1.6524 - accuracy: 0.5326 - val_loss: 1.3277 - val_accuracy: 0.6349\n",
      "Epoch 3/30\n",
      "7270/7270 - 1s - loss: 1.1885 - accuracy: 0.6717 - val_loss: 1.0062 - val_accuracy: 0.7228\n",
      "Epoch 4/30\n",
      "7270/7270 - 0s - loss: 0.9629 - accuracy: 0.7223 - val_loss: 0.8554 - val_accuracy: 0.7649\n",
      "Epoch 5/30\n",
      "7270/7270 - 0s - loss: 0.8146 - accuracy: 0.7641 - val_loss: 0.7681 - val_accuracy: 0.7772\n",
      "Epoch 6/30\n",
      "7270/7270 - 1s - loss: 0.7276 - accuracy: 0.7873 - val_loss: 0.7039 - val_accuracy: 0.7908\n",
      "Epoch 7/30\n",
      "7270/7270 - 1s - loss: 0.6709 - accuracy: 0.7999 - val_loss: 0.6457 - val_accuracy: 0.8094\n",
      "Epoch 8/30\n",
      "7270/7270 - 1s - loss: 0.6312 - accuracy: 0.8125 - val_loss: 0.6032 - val_accuracy: 0.8193\n",
      "Epoch 9/30\n",
      "7270/7270 - 0s - loss: 0.5955 - accuracy: 0.8215 - val_loss: 0.6033 - val_accuracy: 0.8205\n",
      "Epoch 10/30\n",
      "7270/7270 - 0s - loss: 0.5804 - accuracy: 0.8249 - val_loss: 0.5678 - val_accuracy: 0.8342\n",
      "Epoch 11/30\n",
      "7270/7270 - 1s - loss: 0.5547 - accuracy: 0.8293 - val_loss: 0.5446 - val_accuracy: 0.8342\n",
      "Epoch 12/30\n",
      "7270/7270 - 0s - loss: 0.5408 - accuracy: 0.8340 - val_loss: 0.5415 - val_accuracy: 0.8342\n",
      "Epoch 13/30\n",
      "7270/7270 - 1s - loss: 0.5274 - accuracy: 0.8409 - val_loss: 0.5602 - val_accuracy: 0.8342\n",
      "Epoch 14/30\n",
      "7270/7270 - 1s - loss: 0.5085 - accuracy: 0.8468 - val_loss: 0.5223 - val_accuracy: 0.8403\n",
      "Epoch 15/30\n",
      "7270/7270 - 0s - loss: 0.5082 - accuracy: 0.8418 - val_loss: 0.5298 - val_accuracy: 0.8403\n",
      "Epoch 16/30\n",
      "7270/7270 - 0s - loss: 0.4988 - accuracy: 0.8443 - val_loss: 0.5254 - val_accuracy: 0.8416\n",
      "Epoch 17/30\n",
      "7270/7270 - 0s - loss: 0.4958 - accuracy: 0.8457 - val_loss: 0.5207 - val_accuracy: 0.8428\n",
      "Epoch 18/30\n",
      "7270/7270 - 0s - loss: 0.4897 - accuracy: 0.8458 - val_loss: 0.5305 - val_accuracy: 0.8478\n",
      "Epoch 19/30\n",
      "7270/7270 - 0s - loss: 0.4805 - accuracy: 0.8503 - val_loss: 0.5194 - val_accuracy: 0.8502\n",
      "Epoch 20/30\n",
      "7270/7270 - 0s - loss: 0.4783 - accuracy: 0.8483 - val_loss: 0.5148 - val_accuracy: 0.8416\n",
      "Epoch 21/30\n",
      "7270/7270 - 0s - loss: 0.4787 - accuracy: 0.8477 - val_loss: 0.5157 - val_accuracy: 0.8465\n",
      "Epoch 22/30\n",
      "7270/7270 - 1s - loss: 0.4675 - accuracy: 0.8538 - val_loss: 0.5129 - val_accuracy: 0.8416\n",
      "Epoch 23/30\n",
      "7270/7270 - 1s - loss: 0.4637 - accuracy: 0.8535 - val_loss: 0.5172 - val_accuracy: 0.8465\n",
      "Epoch 24/30\n",
      "7270/7270 - 1s - loss: 0.4630 - accuracy: 0.8553 - val_loss: 0.5157 - val_accuracy: 0.8478\n",
      "Epoch 25/30\n",
      "7270/7270 - 1s - loss: 0.4658 - accuracy: 0.8536 - val_loss: 0.5132 - val_accuracy: 0.8478\n",
      "Epoch 26/30\n",
      "7270/7270 - 1s - loss: 0.4538 - accuracy: 0.8579 - val_loss: 0.5132 - val_accuracy: 0.8453\n",
      "Epoch 27/30\n",
      "7270/7270 - 1s - loss: 0.4541 - accuracy: 0.8532 - val_loss: 0.5247 - val_accuracy: 0.8465\n",
      "Epoch 28/30\n",
      "7270/7270 - 1s - loss: 0.4574 - accuracy: 0.8520 - val_loss: 0.5151 - val_accuracy: 0.8465\n",
      "Epoch 29/30\n",
      "7270/7270 - 1s - loss: 0.4574 - accuracy: 0.8554 - val_loss: 0.5158 - val_accuracy: 0.8502\n",
      "Epoch 30/30\n",
      "7270/7270 - 1s - loss: 0.4538 - accuracy: 0.8550 - val_loss: 0.5122 - val_accuracy: 0.8416\n"
     ]
    },
    {
     "data": {
      "text/plain": [
       "<tensorflow.python.keras.callbacks.History at 0x179415390>"
      ]
     },
     "execution_count": 22,
     "metadata": {},
     "output_type": "execute_result"
    }
   ],
   "source": [
    "batch_size = 128\n",
    "epochs = 30\n",
    "model.fit(X_t,y, batch_size=batch_size, epochs=epochs, validation_split=0.1,verbose=2)\n",
    "# model.fit(X_t,y, batch_size=batch_size, epochs=epochs, validation_split=0.1,callbacks=[tensorboard],verbose=1)"
   ]
  },
  {
   "cell_type": "code",
   "execution_count": 23,
   "metadata": {},
   "outputs": [
    {
     "name": "stdout",
     "output_type": "stream",
     "text": [
      "Model: \"model\"\n",
      "_________________________________________________________________\n",
      "Layer (type)                 Output Shape              Param #   \n",
      "=================================================================\n",
      "input_1 (InputLayer)         [(None, 4)]               0         \n",
      "_________________________________________________________________\n",
      "embedding (Embedding)        (None, 4, 300)            600000    \n",
      "_________________________________________________________________\n",
      "spatial_dropout1d (SpatialDr (None, 4, 300)            0         \n",
      "_________________________________________________________________\n",
      "bidirectional (Bidirectional (None, 4, 64)             85248     \n",
      "_________________________________________________________________\n",
      "bidirectional_1 (Bidirection (None, 64)                24832     \n",
      "_________________________________________________________________\n",
      "flatten (Flatten)            (None, 64)                0         \n",
      "_________________________________________________________________\n",
      "dropout (Dropout)            (None, 64)                0         \n",
      "_________________________________________________________________\n",
      "dense (Dense)                (None, 64)                4160      \n",
      "_________________________________________________________________\n",
      "dropout_1 (Dropout)          (None, 64)                0         \n",
      "_________________________________________________________________\n",
      "dense_1 (Dense)              (None, 22)                1430      \n",
      "=================================================================\n",
      "Total params: 715,670\n",
      "Trainable params: 115,670\n",
      "Non-trainable params: 600,000\n",
      "_________________________________________________________________\n",
      "Failed to import pydot. You must install pydot and graphviz for `pydotprint` to work.\n"
     ]
    }
   ],
   "source": [
    "model.summary()\n",
    "model.save('jobfamily_model.h5')\n",
    "plot_model(model, show_shapes=True, to_file='model.png')"
   ]
  },
  {
   "cell_type": "markdown",
   "metadata": {},
   "source": [
    "# Testing"
   ]
  },
  {
   "cell_type": "code",
   "execution_count": 24,
   "metadata": {},
   "outputs": [],
   "source": [
    "model=tensorflow.keras.models.load_model('jobfamily_model.h5')"
   ]
  },
  {
   "cell_type": "code",
   "execution_count": 25,
   "metadata": {},
   "outputs": [],
   "source": [
    "pred=model.predict(X_te)"
   ]
  },
  {
   "cell_type": "code",
   "execution_count": 26,
   "metadata": {},
   "outputs": [],
   "source": [
    "submission=X_test"
   ]
  },
  {
   "cell_type": "code",
   "execution_count": 27,
   "metadata": {},
   "outputs": [],
   "source": [
    "# submission = pd.read_csv(r'C:\\Users\\john.kuang\\OneDrive - Sequoia\\Python\\Toxic/sample_submission.csv')\n",
    "submission[ylist] = pred\n",
    "submission['Pred_Family']=submission[ylist].idxmax(axis=1)\n",
    "submission['Acc'] = np.where(submission['Pred_Family']==submission['Family'], 1, 0)\n",
    "X_test_acc=submission['Acc'].sum()/submission['Acc'].count()"
   ]
  },
  {
   "cell_type": "code",
   "execution_count": 28,
   "metadata": {},
   "outputs": [],
   "source": [
    "submission.to_csv('submission.csv', index=False)"
   ]
  },
  {
   "cell_type": "code",
   "execution_count": 29,
   "metadata": {},
   "outputs": [],
   "source": [
    "summary=submission.groupby(['Family','Pred_Family']).count()\n",
    "summary.to_excel('summary.xlsx', index=True)"
   ]
  },
  {
   "cell_type": "code",
   "execution_count": 30,
   "metadata": {},
   "outputs": [],
   "source": [
    "checkfamily='Human Resources'"
   ]
  },
  {
   "cell_type": "code",
   "execution_count": 31,
   "metadata": {},
   "outputs": [
    {
     "name": "stdout",
     "output_type": "stream",
     "text": [
      "TP is 52\n",
      "TN is 840\n",
      "FP is 0\n",
      "FN is 6\n"
     ]
    }
   ],
   "source": [
    "# True Positive\n",
    "TP=submission.loc[(submission.Family == submission.Pred_Family)&(submission.Family==checkfamily)][['Family', 'Pred_Family']].count()[0]\n",
    "print(\"TP is \"+str(TP))\n",
    "\n",
    "# True Negative\n",
    "TN=submission.loc[(submission.Family != checkfamily)&(submission.Pred_Family!=checkfamily)][['Family', 'Pred_Family']].count()[0]\n",
    "print(\"TN is \"+str(TN))\n",
    "\n",
    "# False Positive\n",
    "FP = submission.loc[(submission.Family != submission.Pred_Family)&(submission.Pred_Family==checkfamily)][['Family', 'Pred_Family']].count()[0]\n",
    "print(\"FP is \"+str(FP))\n",
    "\n",
    "# False Negative\n",
    "FN =submission.loc[(submission.Family != submission.Pred_Family)&(submission.Family==checkfamily)][['Family', 'Pred_Family']].count()[0]\n",
    "print(\"FN is \"+str(FN))\n",
    "\n",
    "# Accuracy - a ratio of correctly predicted observation to the total observations.\n",
    "accuracy=(TP+TN)/(TP+TN+FP+FN)\n",
    "\n",
    "# Precision - measure the ratio of correctly predicted positive observations to the total predicted positive observations.\n",
    "# For example - of all the predicted label \"Human Resources\", what is the precentage has the correct actual label? \n",
    "# say we have predicted 100 HR, and 70 of the predicted are actually HR, 30 of the predicted are Not HR, that is a 70% percision \n",
    "precision=TP/(TP+FP)\n",
    "\n",
    "# Recall - measure the ratio of correctly predicted positive observations to the all observations in actual class. \n",
    "# For example - Of all the actual label \"Human Resources\", what is the percentage correctly predicted by the model?\n",
    "# say we have actual 100 HR, and our model only predict 40 are HRs, and 60 are predict as Not HRs, that is a 40% recall\n",
    "recall=TP/(TP+FN)\n",
    "\n",
    "# F1 = 2*(Recall * Precision) / (Recall + Precision) - combine recall and precision as a single measure on model\n",
    "F1=2*recall*precision/(recall+precision)"
   ]
  },
  {
   "cell_type": "code",
   "execution_count": 32,
   "metadata": {},
   "outputs": [
    {
     "name": "stdout",
     "output_type": "stream",
     "text": [
      "Overall Test Set Accuracy is 0.8496659242761693 \n",
      "\n",
      "Human Resources Family Accuracy is 0.9933184855233853\n",
      "Human Resources Family Precision is 1.0\n",
      "Human Resources Family Recall is 0.896551724137931\n",
      "Human Resources Family F1 is 0.9454545454545454\n"
     ]
    }
   ],
   "source": [
    "print(\"Overall Test Set Accuracy is\",str(X_test_acc),'\\n')\n",
    "print(checkfamily+\" Family Accuracy is \"+str(accuracy))\n",
    "print(checkfamily+\" Family Precision is \"+str(precision))\n",
    "print(checkfamily+\" Family Recall is \"+str(recall))\n",
    "print(checkfamily+\" Family F1 is \"+str(F1))"
   ]
  },
  {
   "cell_type": "markdown",
   "metadata": {},
   "source": [
    "# Production"
   ]
  },
  {
   "cell_type": "code",
   "execution_count": 33,
   "metadata": {},
   "outputs": [],
   "source": [
    "# Testing on Salesforce Data"
   ]
  },
  {
   "cell_type": "code",
   "execution_count": 34,
   "metadata": {},
   "outputs": [],
   "source": [
    "# loading the saved model\n",
    "model=tensorflow.keras.models.load_model('jobfamily_model.h5')\n",
    "\n",
    "# loading the saved tokenizer\n",
    "with open('tokenizer.pickle', 'rb') as handle:\n",
    "    tokenizer = pickle.load(handle)\n",
    "\n",
    "with open('ylist.data', 'rb') as filehandle:\n",
    "    # read the data as binary data stream\n",
    "    ylist = pickle.load(filehandle)"
   ]
  },
  {
   "cell_type": "code",
   "execution_count": 35,
   "metadata": {},
   "outputs": [],
   "source": [
    "# prod = pd.read_csv(r\"C:\\Users\\john.kuang\\OneDrive - Sequoia\\Python\\Family\\production\\SF Production.csv\")\n",
    "prod = pd.read_excel(r\"/Users/john.kuang/OneDrive - Sequoia/Python/Family/production/S1 Production.xlsx\")"
   ]
  },
  {
   "cell_type": "code",
   "execution_count": 36,
   "metadata": {},
   "outputs": [
    {
     "data": {
      "text/html": [
       "<div>\n",
       "<style scoped>\n",
       "    .dataframe tbody tr th:only-of-type {\n",
       "        vertical-align: middle;\n",
       "    }\n",
       "\n",
       "    .dataframe tbody tr th {\n",
       "        vertical-align: top;\n",
       "    }\n",
       "\n",
       "    .dataframe thead th {\n",
       "        text-align: right;\n",
       "    }\n",
       "</style>\n",
       "<table border=\"1\" class=\"dataframe\">\n",
       "  <thead>\n",
       "    <tr style=\"text-align: right;\">\n",
       "      <th></th>\n",
       "      <th>Company ID</th>\n",
       "      <th>Company</th>\n",
       "      <th>Title</th>\n",
       "    </tr>\n",
       "  </thead>\n",
       "  <tbody>\n",
       "    <tr>\n",
       "      <td>0</td>\n",
       "      <td>103</td>\n",
       "      <td>Listia Inc.</td>\n",
       "      <td>CEO</td>\n",
       "    </tr>\n",
       "    <tr>\n",
       "      <td>1</td>\n",
       "      <td>103</td>\n",
       "      <td>Listia Inc.</td>\n",
       "      <td>President</td>\n",
       "    </tr>\n",
       "    <tr>\n",
       "      <td>2</td>\n",
       "      <td>103</td>\n",
       "      <td>Listia Inc.</td>\n",
       "      <td>Sr Software Engineer</td>\n",
       "    </tr>\n",
       "  </tbody>\n",
       "</table>\n",
       "</div>"
      ],
      "text/plain": [
       "   Company ID      Company                 Title\n",
       "0         103  Listia Inc.                   CEO\n",
       "1         103  Listia Inc.             President\n",
       "2         103  Listia Inc.  Sr Software Engineer"
      ]
     },
     "execution_count": 36,
     "metadata": {},
     "output_type": "execute_result"
    }
   ],
   "source": [
    "prod.head(3)"
   ]
  },
  {
   "cell_type": "code",
   "execution_count": 37,
   "metadata": {},
   "outputs": [
    {
     "data": {
      "text/plain": [
       "(9356, 3)"
      ]
     },
     "execution_count": 37,
     "metadata": {},
     "output_type": "execute_result"
    }
   ],
   "source": [
    "prod.shape"
   ]
  },
  {
   "cell_type": "code",
   "execution_count": 38,
   "metadata": {},
   "outputs": [],
   "source": [
    "prod.Title = prod.Title.str.replace(r'[^\\w\\s]+', '')\n",
    "prod.Title = prod.Title.str.replace('\\d+', '')\n",
    "prod.Title = prod.Title.replace('', np.NaN)\n",
    "prod=prod.dropna(subset=['Title'])\n",
    "prod.Title = prod.Title.apply(lambda x: x.lower())"
   ]
  },
  {
   "cell_type": "code",
   "execution_count": 39,
   "metadata": {},
   "outputs": [],
   "source": [
    "prod_sentences_test = prod[\"Title\"]\n",
    "prod_tokenized_test = tokenizer.texts_to_sequences(prod_sentences_test)"
   ]
  },
  {
   "cell_type": "code",
   "execution_count": 40,
   "metadata": {},
   "outputs": [
    {
     "data": {
      "image/png": "[encoded data removed]",
      "text/plain": [
       "<Figure size 432x288 with 1 Axes>"
      ]
     },
     "metadata": {
      "needs_background": "light"
     },
     "output_type": "display_data"
    },
    {
     "name": "stdout",
     "output_type": "stream",
     "text": [
      "Average number of words is 2.2483429548856106\n",
      "Max number of words is 6\n"
     ]
    }
   ],
   "source": [
    "totalNumWords = [len(one_comment) for one_comment in prod_tokenized_test]\n",
    "plt.hist(totalNumWords,bins = np.arange(0,8,1))\n",
    "plt.show()\n",
    "print(\"Average number of words is\",np.average(totalNumWords))\n",
    "print(\"Max number of words is\",np.max(totalNumWords))"
   ]
  },
  {
   "cell_type": "code",
   "execution_count": 41,
   "metadata": {},
   "outputs": [],
   "source": [
    "X_prod = pad_sequences(prod_tokenized_test, maxlen=maxlen)"
   ]
  },
  {
   "cell_type": "code",
   "execution_count": 42,
   "metadata": {},
   "outputs": [],
   "source": [
    "pred_product=model.predict(X_prod)\n",
    "pred_product=pd.DataFrame(pred_product,columns=ylist,index=prod.index)"
   ]
  },
  {
   "cell_type": "code",
   "execution_count": 43,
   "metadata": {},
   "outputs": [],
   "source": [
    "result=prod"
   ]
  },
  {
   "cell_type": "code",
   "execution_count": 44,
   "metadata": {},
   "outputs": [],
   "source": [
    "result[ylist]=pred_product"
   ]
  },
  {
   "cell_type": "code",
   "execution_count": 45,
   "metadata": {},
   "outputs": [],
   "source": [
    "result['Pred_Family']=pred_product[ylist].idxmax(axis=1)"
   ]
  },
  {
   "cell_type": "code",
   "execution_count": 46,
   "metadata": {},
   "outputs": [],
   "source": [
    "col = result['Pred_Family'] # df.pop('F') # if you want it removed\n",
    "result.insert(result.columns.get_loc('Title') + 1, col.name, col, allow_duplicates=True)\n",
    "result = result.iloc[:,:-1]"
   ]
  },
  {
   "cell_type": "code",
   "execution_count": 47,
   "metadata": {},
   "outputs": [],
   "source": [
    "result.to_excel('production_result.xlsx', index=False)"
   ]
  },
  {
   "cell_type": "code",
   "execution_count": 48,
   "metadata": {},
   "outputs": [
    {
     "data": {
      "text/html": [
       "<div>\n",
       "<style scoped>\n",
       "    .dataframe tbody tr th:only-of-type {\n",
       "        vertical-align: middle;\n",
       "    }\n",
       "\n",
       "    .dataframe tbody tr th {\n",
       "        vertical-align: top;\n",
       "    }\n",
       "\n",
       "    .dataframe thead th {\n",
       "        text-align: right;\n",
       "    }\n",
       "</style>\n",
       "<table border=\"1\" class=\"dataframe\">\n",
       "  <thead>\n",
       "    <tr style=\"text-align: right;\">\n",
       "      <th></th>\n",
       "      <th>Company ID</th>\n",
       "      <th>Company</th>\n",
       "      <th>Title</th>\n",
       "      <th>Pred_Family</th>\n",
       "      <th>General Management</th>\n",
       "      <th>Finance</th>\n",
       "      <th>Human Resources</th>\n",
       "      <th>Communications &amp; Corporate Affairs</th>\n",
       "      <th>Legal, Compliance &amp; Audit</th>\n",
       "      <th>Administration, Facilities &amp; Secretarial</th>\n",
       "      <th>...</th>\n",
       "      <th>Production &amp; Skilled Trades</th>\n",
       "      <th>IT, Telecom &amp; Internet</th>\n",
       "      <th>Data Analytics/Warehousing, &amp; Business Intelligence</th>\n",
       "      <th>Consumer &amp; Commercial Banking</th>\n",
       "      <th>Insurance</th>\n",
       "      <th>Hospitality (Food Service &amp; Lodging)</th>\n",
       "      <th>Creative &amp; Design</th>\n",
       "      <th>Real Estate Management, Property Development &amp; Investment</th>\n",
       "      <th>Construction</th>\n",
       "      <th>Healthcare/Pharmacy Services</th>\n",
       "    </tr>\n",
       "  </thead>\n",
       "  <tbody>\n",
       "    <tr>\n",
       "      <td>0</td>\n",
       "      <td>103</td>\n",
       "      <td>Listia Inc.</td>\n",
       "      <td>ceo</td>\n",
       "      <td>Sales, Marketing &amp; Product Management</td>\n",
       "      <td>1.245434e-03</td>\n",
       "      <td>5.059211e-03</td>\n",
       "      <td>1.196873e-01</td>\n",
       "      <td>6.408858e-04</td>\n",
       "      <td>1.320150e-02</td>\n",
       "      <td>7.762451e-04</td>\n",
       "      <td>...</td>\n",
       "      <td>2.281527e-03</td>\n",
       "      <td>0.003175</td>\n",
       "      <td>8.570882e-04</td>\n",
       "      <td>2.993829e-05</td>\n",
       "      <td>8.188180e-03</td>\n",
       "      <td>4.744653e-02</td>\n",
       "      <td>3.940185e-04</td>\n",
       "      <td>5.762491e-03</td>\n",
       "      <td>1.325992e-06</td>\n",
       "      <td>8.047567e-02</td>\n",
       "    </tr>\n",
       "    <tr>\n",
       "      <td>1</td>\n",
       "      <td>103</td>\n",
       "      <td>Listia Inc.</td>\n",
       "      <td>president</td>\n",
       "      <td>Legal, Compliance &amp; Audit</td>\n",
       "      <td>2.750826e-02</td>\n",
       "      <td>3.229887e-02</td>\n",
       "      <td>3.262660e-02</td>\n",
       "      <td>2.883775e-02</td>\n",
       "      <td>9.949441e-02</td>\n",
       "      <td>4.405138e-02</td>\n",
       "      <td>...</td>\n",
       "      <td>6.164322e-02</td>\n",
       "      <td>0.039433</td>\n",
       "      <td>2.512545e-02</td>\n",
       "      <td>1.046860e-02</td>\n",
       "      <td>1.921183e-02</td>\n",
       "      <td>6.108247e-02</td>\n",
       "      <td>3.033689e-02</td>\n",
       "      <td>5.265952e-02</td>\n",
       "      <td>9.307776e-03</td>\n",
       "      <td>2.997791e-02</td>\n",
       "    </tr>\n",
       "    <tr>\n",
       "      <td>2</td>\n",
       "      <td>103</td>\n",
       "      <td>Listia Inc.</td>\n",
       "      <td>sr software engineer</td>\n",
       "      <td>IT, Telecom &amp; Internet</td>\n",
       "      <td>3.099169e-07</td>\n",
       "      <td>3.381135e-10</td>\n",
       "      <td>1.422667e-07</td>\n",
       "      <td>1.901815e-09</td>\n",
       "      <td>1.545233e-09</td>\n",
       "      <td>1.541675e-08</td>\n",
       "      <td>...</td>\n",
       "      <td>1.799779e-08</td>\n",
       "      <td>0.999995</td>\n",
       "      <td>5.649049e-07</td>\n",
       "      <td>1.283265e-15</td>\n",
       "      <td>1.607567e-13</td>\n",
       "      <td>3.459682e-09</td>\n",
       "      <td>8.730998e-07</td>\n",
       "      <td>6.068171e-08</td>\n",
       "      <td>3.621760e-10</td>\n",
       "      <td>1.520312e-11</td>\n",
       "    </tr>\n",
       "    <tr>\n",
       "      <td>3</td>\n",
       "      <td>103</td>\n",
       "      <td>Listia Inc.</td>\n",
       "      <td>customer support representative</td>\n",
       "      <td>Customer Service &amp; Contact Center Operations</td>\n",
       "      <td>1.353459e-08</td>\n",
       "      <td>2.782436e-07</td>\n",
       "      <td>3.117675e-06</td>\n",
       "      <td>2.514213e-07</td>\n",
       "      <td>4.331062e-11</td>\n",
       "      <td>3.669609e-07</td>\n",
       "      <td>...</td>\n",
       "      <td>2.143078e-08</td>\n",
       "      <td>0.000421</td>\n",
       "      <td>1.559944e-07</td>\n",
       "      <td>2.332984e-09</td>\n",
       "      <td>2.711663e-08</td>\n",
       "      <td>1.195078e-07</td>\n",
       "      <td>3.766155e-09</td>\n",
       "      <td>1.695311e-11</td>\n",
       "      <td>5.495512e-11</td>\n",
       "      <td>8.547966e-10</td>\n",
       "    </tr>\n",
       "    <tr>\n",
       "      <td>4</td>\n",
       "      <td>103</td>\n",
       "      <td>Listia Inc.</td>\n",
       "      <td>customer support rep  non ca</td>\n",
       "      <td>Customer Service &amp; Contact Center Operations</td>\n",
       "      <td>6.322258e-08</td>\n",
       "      <td>4.247669e-06</td>\n",
       "      <td>7.784402e-05</td>\n",
       "      <td>1.618300e-06</td>\n",
       "      <td>1.364974e-10</td>\n",
       "      <td>1.302724e-06</td>\n",
       "      <td>...</td>\n",
       "      <td>3.590440e-08</td>\n",
       "      <td>0.002721</td>\n",
       "      <td>1.299747e-06</td>\n",
       "      <td>4.742056e-09</td>\n",
       "      <td>1.326865e-07</td>\n",
       "      <td>3.210065e-07</td>\n",
       "      <td>8.809656e-08</td>\n",
       "      <td>7.289035e-10</td>\n",
       "      <td>1.151315e-10</td>\n",
       "      <td>1.249203e-08</td>\n",
       "    </tr>\n",
       "    <tr>\n",
       "      <td>...</td>\n",
       "      <td>...</td>\n",
       "      <td>...</td>\n",
       "      <td>...</td>\n",
       "      <td>...</td>\n",
       "      <td>...</td>\n",
       "      <td>...</td>\n",
       "      <td>...</td>\n",
       "      <td>...</td>\n",
       "      <td>...</td>\n",
       "      <td>...</td>\n",
       "      <td>...</td>\n",
       "      <td>...</td>\n",
       "      <td>...</td>\n",
       "      <td>...</td>\n",
       "      <td>...</td>\n",
       "      <td>...</td>\n",
       "      <td>...</td>\n",
       "      <td>...</td>\n",
       "      <td>...</td>\n",
       "      <td>...</td>\n",
       "      <td>...</td>\n",
       "    </tr>\n",
       "    <tr>\n",
       "      <td>9351</td>\n",
       "      <td>584</td>\n",
       "      <td>DFINITY USA Research, LLC</td>\n",
       "      <td>vp of human resources</td>\n",
       "      <td>Human Resources</td>\n",
       "      <td>9.326362e-05</td>\n",
       "      <td>1.265264e-05</td>\n",
       "      <td>9.925827e-01</td>\n",
       "      <td>1.432578e-06</td>\n",
       "      <td>1.903646e-05</td>\n",
       "      <td>5.393645e-07</td>\n",
       "      <td>...</td>\n",
       "      <td>5.775529e-06</td>\n",
       "      <td>0.003855</td>\n",
       "      <td>1.015323e-06</td>\n",
       "      <td>1.681039e-12</td>\n",
       "      <td>3.496197e-08</td>\n",
       "      <td>1.060646e-04</td>\n",
       "      <td>1.028798e-05</td>\n",
       "      <td>6.323992e-05</td>\n",
       "      <td>2.832519e-10</td>\n",
       "      <td>4.451272e-06</td>\n",
       "    </tr>\n",
       "    <tr>\n",
       "      <td>9352</td>\n",
       "      <td>585</td>\n",
       "      <td>Arch Asset Management LLC</td>\n",
       "      <td>regional manager</td>\n",
       "      <td>Supply Chain</td>\n",
       "      <td>1.744600e-02</td>\n",
       "      <td>1.824794e-04</td>\n",
       "      <td>1.921341e-03</td>\n",
       "      <td>1.844779e-03</td>\n",
       "      <td>9.025521e-03</td>\n",
       "      <td>5.153240e-04</td>\n",
       "      <td>...</td>\n",
       "      <td>6.123206e-03</td>\n",
       "      <td>0.086055</td>\n",
       "      <td>3.040647e-04</td>\n",
       "      <td>5.770664e-05</td>\n",
       "      <td>1.513525e-04</td>\n",
       "      <td>5.854051e-03</td>\n",
       "      <td>1.345432e-03</td>\n",
       "      <td>1.317401e-04</td>\n",
       "      <td>1.617202e-05</td>\n",
       "      <td>2.727918e-05</td>\n",
       "    </tr>\n",
       "    <tr>\n",
       "      <td>9353</td>\n",
       "      <td>585</td>\n",
       "      <td>Arch Asset Management LLC</td>\n",
       "      <td>property accountant</td>\n",
       "      <td>Real Estate Management, Property Development &amp;...</td>\n",
       "      <td>3.611137e-07</td>\n",
       "      <td>1.060730e-01</td>\n",
       "      <td>5.587425e-05</td>\n",
       "      <td>3.639082e-04</td>\n",
       "      <td>3.997077e-02</td>\n",
       "      <td>4.343566e-03</td>\n",
       "      <td>...</td>\n",
       "      <td>7.704057e-04</td>\n",
       "      <td>0.000002</td>\n",
       "      <td>1.080455e-05</td>\n",
       "      <td>1.802690e-06</td>\n",
       "      <td>4.145484e-05</td>\n",
       "      <td>1.844880e-04</td>\n",
       "      <td>5.068160e-04</td>\n",
       "      <td>8.260602e-01</td>\n",
       "      <td>5.099357e-07</td>\n",
       "      <td>7.680967e-05</td>\n",
       "    </tr>\n",
       "    <tr>\n",
       "      <td>9354</td>\n",
       "      <td>586</td>\n",
       "      <td>Vetted PetCare Inc</td>\n",
       "      <td>admin</td>\n",
       "      <td>Legal, Compliance &amp; Audit</td>\n",
       "      <td>2.750826e-02</td>\n",
       "      <td>3.229887e-02</td>\n",
       "      <td>3.262660e-02</td>\n",
       "      <td>2.883775e-02</td>\n",
       "      <td>9.949441e-02</td>\n",
       "      <td>4.405138e-02</td>\n",
       "      <td>...</td>\n",
       "      <td>6.164322e-02</td>\n",
       "      <td>0.039433</td>\n",
       "      <td>2.512545e-02</td>\n",
       "      <td>1.046860e-02</td>\n",
       "      <td>1.921183e-02</td>\n",
       "      <td>6.108247e-02</td>\n",
       "      <td>3.033689e-02</td>\n",
       "      <td>5.265952e-02</td>\n",
       "      <td>9.307776e-03</td>\n",
       "      <td>2.997791e-02</td>\n",
       "    </tr>\n",
       "    <tr>\n",
       "      <td>9355</td>\n",
       "      <td>586</td>\n",
       "      <td>Vetted PetCare Inc</td>\n",
       "      <td>field marketing</td>\n",
       "      <td>Sales, Marketing &amp; Product Management</td>\n",
       "      <td>5.733992e-09</td>\n",
       "      <td>4.173024e-07</td>\n",
       "      <td>4.361449e-06</td>\n",
       "      <td>2.598795e-06</td>\n",
       "      <td>4.375720e-07</td>\n",
       "      <td>7.976605e-09</td>\n",
       "      <td>...</td>\n",
       "      <td>3.657456e-07</td>\n",
       "      <td>0.000003</td>\n",
       "      <td>5.904549e-07</td>\n",
       "      <td>7.617567e-11</td>\n",
       "      <td>1.058674e-07</td>\n",
       "      <td>3.576935e-07</td>\n",
       "      <td>4.786653e-06</td>\n",
       "      <td>4.158444e-07</td>\n",
       "      <td>5.909063e-12</td>\n",
       "      <td>3.593902e-07</td>\n",
       "    </tr>\n",
       "  </tbody>\n",
       "</table>\n",
       "<p>9354 rows × 26 columns</p>\n",
       "</div>"
      ],
      "text/plain": [
       "      Company ID                    Company                            Title  \\\n",
       "0            103                Listia Inc.                              ceo   \n",
       "1            103                Listia Inc.                        president   \n",
       "2            103                Listia Inc.             sr software engineer   \n",
       "3            103                Listia Inc.  customer support representative   \n",
       "4            103                Listia Inc.     customer support rep  non ca   \n",
       "...          ...                        ...                              ...   \n",
       "9351         584  DFINITY USA Research, LLC            vp of human resources   \n",
       "9352         585  Arch Asset Management LLC                 regional manager   \n",
       "9353         585  Arch Asset Management LLC              property accountant   \n",
       "9354         586         Vetted PetCare Inc                           admin    \n",
       "9355         586         Vetted PetCare Inc                  field marketing   \n",
       "\n",
       "                                            Pred_Family  General Management  \\\n",
       "0                 Sales, Marketing & Product Management        1.245434e-03   \n",
       "1                             Legal, Compliance & Audit        2.750826e-02   \n",
       "2                                IT, Telecom & Internet        3.099169e-07   \n",
       "3          Customer Service & Contact Center Operations        1.353459e-08   \n",
       "4          Customer Service & Contact Center Operations        6.322258e-08   \n",
       "...                                                 ...                 ...   \n",
       "9351                                    Human Resources        9.326362e-05   \n",
       "9352                                       Supply Chain        1.744600e-02   \n",
       "9353  Real Estate Management, Property Development &...        3.611137e-07   \n",
       "9354                          Legal, Compliance & Audit        2.750826e-02   \n",
       "9355              Sales, Marketing & Product Management        5.733992e-09   \n",
       "\n",
       "           Finance  Human Resources  Communications & Corporate Affairs  \\\n",
       "0     5.059211e-03     1.196873e-01                        6.408858e-04   \n",
       "1     3.229887e-02     3.262660e-02                        2.883775e-02   \n",
       "2     3.381135e-10     1.422667e-07                        1.901815e-09   \n",
       "3     2.782436e-07     3.117675e-06                        2.514213e-07   \n",
       "4     4.247669e-06     7.784402e-05                        1.618300e-06   \n",
       "...            ...              ...                                 ...   \n",
       "9351  1.265264e-05     9.925827e-01                        1.432578e-06   \n",
       "9352  1.824794e-04     1.921341e-03                        1.844779e-03   \n",
       "9353  1.060730e-01     5.587425e-05                        3.639082e-04   \n",
       "9354  3.229887e-02     3.262660e-02                        2.883775e-02   \n",
       "9355  4.173024e-07     4.361449e-06                        2.598795e-06   \n",
       "\n",
       "      Legal, Compliance & Audit  Administration, Facilities & Secretarial  \\\n",
       "0                  1.320150e-02                              7.762451e-04   \n",
       "1                  9.949441e-02                              4.405138e-02   \n",
       "2                  1.545233e-09                              1.541675e-08   \n",
       "3                  4.331062e-11                              3.669609e-07   \n",
       "4                  1.364974e-10                              1.302724e-06   \n",
       "...                         ...                                       ...   \n",
       "9351               1.903646e-05                              5.393645e-07   \n",
       "9352               9.025521e-03                              5.153240e-04   \n",
       "9353               3.997077e-02                              4.343566e-03   \n",
       "9354               9.949441e-02                              4.405138e-02   \n",
       "9355               4.375720e-07                              7.976605e-09   \n",
       "\n",
       "      ...  Production & Skilled Trades  IT, Telecom & Internet  \\\n",
       "0     ...                 2.281527e-03                0.003175   \n",
       "1     ...                 6.164322e-02                0.039433   \n",
       "2     ...                 1.799779e-08                0.999995   \n",
       "3     ...                 2.143078e-08                0.000421   \n",
       "4     ...                 3.590440e-08                0.002721   \n",
       "...   ...                          ...                     ...   \n",
       "9351  ...                 5.775529e-06                0.003855   \n",
       "9352  ...                 6.123206e-03                0.086055   \n",
       "9353  ...                 7.704057e-04                0.000002   \n",
       "9354  ...                 6.164322e-02                0.039433   \n",
       "9355  ...                 3.657456e-07                0.000003   \n",
       "\n",
       "      Data Analytics/Warehousing, & Business Intelligence  \\\n",
       "0                                          8.570882e-04     \n",
       "1                                          2.512545e-02     \n",
       "2                                          5.649049e-07     \n",
       "3                                          1.559944e-07     \n",
       "4                                          1.299747e-06     \n",
       "...                                                 ...     \n",
       "9351                                       1.015323e-06     \n",
       "9352                                       3.040647e-04     \n",
       "9353                                       1.080455e-05     \n",
       "9354                                       2.512545e-02     \n",
       "9355                                       5.904549e-07     \n",
       "\n",
       "      Consumer & Commercial Banking     Insurance  \\\n",
       "0                      2.993829e-05  8.188180e-03   \n",
       "1                      1.046860e-02  1.921183e-02   \n",
       "2                      1.283265e-15  1.607567e-13   \n",
       "3                      2.332984e-09  2.711663e-08   \n",
       "4                      4.742056e-09  1.326865e-07   \n",
       "...                             ...           ...   \n",
       "9351                   1.681039e-12  3.496197e-08   \n",
       "9352                   5.770664e-05  1.513525e-04   \n",
       "9353                   1.802690e-06  4.145484e-05   \n",
       "9354                   1.046860e-02  1.921183e-02   \n",
       "9355                   7.617567e-11  1.058674e-07   \n",
       "\n",
       "      Hospitality (Food Service & Lodging)  Creative & Design  \\\n",
       "0                             4.744653e-02       3.940185e-04   \n",
       "1                             6.108247e-02       3.033689e-02   \n",
       "2                             3.459682e-09       8.730998e-07   \n",
       "3                             1.195078e-07       3.766155e-09   \n",
       "4                             3.210065e-07       8.809656e-08   \n",
       "...                                    ...                ...   \n",
       "9351                          1.060646e-04       1.028798e-05   \n",
       "9352                          5.854051e-03       1.345432e-03   \n",
       "9353                          1.844880e-04       5.068160e-04   \n",
       "9354                          6.108247e-02       3.033689e-02   \n",
       "9355                          3.576935e-07       4.786653e-06   \n",
       "\n",
       "      Real Estate Management, Property Development & Investment  Construction  \\\n",
       "0                                          5.762491e-03          1.325992e-06   \n",
       "1                                          5.265952e-02          9.307776e-03   \n",
       "2                                          6.068171e-08          3.621760e-10   \n",
       "3                                          1.695311e-11          5.495512e-11   \n",
       "4                                          7.289035e-10          1.151315e-10   \n",
       "...                                                 ...                   ...   \n",
       "9351                                       6.323992e-05          2.832519e-10   \n",
       "9352                                       1.317401e-04          1.617202e-05   \n",
       "9353                                       8.260602e-01          5.099357e-07   \n",
       "9354                                       5.265952e-02          9.307776e-03   \n",
       "9355                                       4.158444e-07          5.909063e-12   \n",
       "\n",
       "      Healthcare/Pharmacy Services  \n",
       "0                     8.047567e-02  \n",
       "1                     2.997791e-02  \n",
       "2                     1.520312e-11  \n",
       "3                     8.547966e-10  \n",
       "4                     1.249203e-08  \n",
       "...                            ...  \n",
       "9351                  4.451272e-06  \n",
       "9352                  2.727918e-05  \n",
       "9353                  7.680967e-05  \n",
       "9354                  2.997791e-02  \n",
       "9355                  3.593902e-07  \n",
       "\n",
       "[9354 rows x 26 columns]"
      ]
     },
     "execution_count": 48,
     "metadata": {},
     "output_type": "execute_result"
    }
   ],
   "source": [
    "result"
   ]
  }
 ],
 "metadata": {
  "kernelspec": {
   "display_name": "Python 3",
   "language": "python",
   "name": "python3"
  },
  "language_info": {
   "codemirror_mode": {
    "name": "ipython",
    "version": 3
   },
   "file_extension": ".py",
   "mimetype": "text/x-python",
   "name": "python",
   "nbconvert_exporter": "python",
   "pygments_lexer": "ipython3",
   "version": "3.7.4"
  }
 },
 "nbformat": 4,
 "nbformat_minor": 4
}
